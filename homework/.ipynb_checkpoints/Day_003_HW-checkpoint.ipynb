{
 "cells": [
  {
   "cell_type": "code",
   "execution_count": null,
   "metadata": {},
   "outputs": [],
   "source": [
    "1,透過ai來判斷影片是否為真實的影像，以防有心人透過製作虛假的視頻，來欺騙一般大眾，獲取不法利益。\n",
    "\n",
    "2,透過深度神經網絡，訓練並生成相關影像，以及自然語意的解析與生成，來達到分辨真假的訓練。\n",
    "\n",
    "3,facebook有提供相關免費數據，使用上幾乎不具有限制。"
   ]
  }
 ],
 "metadata": {
  "kernelspec": {
   "display_name": "Python 3",
   "language": "python",
   "name": "python3"
  },
  "language_info": {
   "codemirror_mode": {
    "name": "ipython",
    "version": 3
   },
   "file_extension": ".py",
   "mimetype": "text/x-python",
   "name": "python",
   "nbconvert_exporter": "python",
   "pygments_lexer": "ipython3",
   "version": "3.6.0"
  }
 },
 "nbformat": 4,
 "nbformat_minor": 2
}
